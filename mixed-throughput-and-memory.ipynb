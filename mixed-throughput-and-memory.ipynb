{
 "cells": [
  {
   "cell_type": "code",
   "execution_count": 1,
   "id": "a6f404dc",
   "metadata": {},
   "outputs": [],
   "source": [
    "import common\n",
    "import importlib\n",
    "from matplotlib.lines import Line2D\n",
    "from matplotlib.patches import Patch\n",
    "import matplotlib.pyplot as plt\n",
    "import numpy as np\n",
    "import os\n",
    "import pandas as pd\n",
    "import re\n",
    "import socket\n",
    "import matplotlib\n",
    "import matplotlib.style\n",
    "import plotting\n",
    "import matplotlib.ticker as ticker\n",
    "\n",
    "# Show all columns and rows in a dataframe\n",
    "pd.set_option('display.max_columns', None)\n",
    "pd.set_option('display.max_rows', None)\n",
    "\n",
    "experiments = \"(hostname == 'scyper22' or hostname == 'scyper21')\"\n",
    "\n",
    "libraries = [\"g1_v6-ref-ignore-build\", \"livegraph3_ro\", \"llama8-ref\", \"sortledton\", \"stinger7-ref\", \"teseo-lcc.12\"]\n",
    "libraries_filter = \" | \".join(map(lambda l: \"library == '\" + l + \"'\", libraries))\n",
    "\n",
    "edges_per_graph = pd.DataFrame({\n",
    "    \"graph\": [\"com-friendster\", \"dota-league\", \"graph500-22\", \n",
    "              \"graph500-24\", \"graph500-26\", \"uniform-22\", \n",
    "              \"uniform-24\", \"uniform-26\"\n",
    "              ],\n",
    "    \"edges\": [1806067135, 50870313, 64155735, 260379520, 1051922853, 64155735, 260379520, 1051922853]\n",
    "})\n",
    "\n",
    "scaling_graphs=\"graph == 'graph500-24'\""
   ]
  },
  {
   "cell_type": "markdown",
   "id": "41ee5afd",
   "metadata": {},
   "source": [
    "## Average Throughput Analysis"
   ]
  },
  {
   "cell_type": "code",
   "execution_count": 2,
   "id": "bbdfab77",
   "metadata": {},
   "outputs": [],
   "source": [
    "data = common.import_gfe(\"view_updates_throughput\").query(experiments) # data from the experiments\n",
    "throughput_grouped = data.groupby([\"graph\", \"library\"]).agg(throughput_mean=(\"throughput\", \"mean\"))"
   ]
  },
  {
   "cell_type": "code",
   "execution_count": 3,
   "id": "fc39d297",
   "metadata": {},
   "outputs": [
    {
     "ename": "KeyError",
     "evalue": "'sortledton.3'",
     "output_type": "error",
     "traceback": [
      "\u001b[0;31m---------------------------------------------------------------------------\u001b[0m",
      "\u001b[0;31mKeyError\u001b[0m                                  Traceback (most recent call last)",
      "\u001b[0;32m/opt/homebrew/lib/python3.9/site-packages/pandas/core/indexes/base.py\u001b[0m in \u001b[0;36mget_loc\u001b[0;34m(self, key, method, tolerance)\u001b[0m\n\u001b[1;32m   3080\u001b[0m             \u001b[0;32mtry\u001b[0m\u001b[0;34m:\u001b[0m\u001b[0;34m\u001b[0m\u001b[0;34m\u001b[0m\u001b[0m\n\u001b[0;32m-> 3081\u001b[0;31m                 \u001b[0;32mreturn\u001b[0m \u001b[0mself\u001b[0m\u001b[0;34m.\u001b[0m\u001b[0m_engine\u001b[0m\u001b[0;34m.\u001b[0m\u001b[0mget_loc\u001b[0m\u001b[0;34m(\u001b[0m\u001b[0mcasted_key\u001b[0m\u001b[0;34m)\u001b[0m\u001b[0;34m\u001b[0m\u001b[0;34m\u001b[0m\u001b[0m\n\u001b[0m\u001b[1;32m   3082\u001b[0m             \u001b[0;32mexcept\u001b[0m \u001b[0mKeyError\u001b[0m \u001b[0;32mas\u001b[0m \u001b[0merr\u001b[0m\u001b[0;34m:\u001b[0m\u001b[0;34m\u001b[0m\u001b[0;34m\u001b[0m\u001b[0m\n",
      "\u001b[0;32mpandas/_libs/index.pyx\u001b[0m in \u001b[0;36mpandas._libs.index.IndexEngine.get_loc\u001b[0;34m()\u001b[0m\n",
      "\u001b[0;32mpandas/_libs/index.pyx\u001b[0m in \u001b[0;36mpandas._libs.index.IndexEngine.get_loc\u001b[0;34m()\u001b[0m\n",
      "\u001b[0;32mpandas/_libs/hashtable_class_helper.pxi\u001b[0m in \u001b[0;36mpandas._libs.hashtable.PyObjectHashTable.get_item\u001b[0;34m()\u001b[0m\n",
      "\u001b[0;32mpandas/_libs/hashtable_class_helper.pxi\u001b[0m in \u001b[0;36mpandas._libs.hashtable.PyObjectHashTable.get_item\u001b[0;34m()\u001b[0m\n",
      "\u001b[0;31mKeyError\u001b[0m: 'sortledton.3'",
      "\nThe above exception was the direct cause of the following exception:\n",
      "\u001b[0;31mKeyError\u001b[0m                                  Traceback (most recent call last)",
      "\u001b[0;32m/var/folders/gy/9jj0s8856m96r82w7k8q9vk40000gn/T/ipykernel_59561/3965211455.py\u001b[0m in \u001b[0;36m<module>\u001b[0;34m\u001b[0m\n\u001b[1;32m      1\u001b[0m \u001b[0mthroughput_pivot\u001b[0m \u001b[0;34m=\u001b[0m \u001b[0mthroughput_grouped\u001b[0m\u001b[0;34m.\u001b[0m\u001b[0mpivot_table\u001b[0m\u001b[0;34m(\u001b[0m\u001b[0mvalues\u001b[0m\u001b[0;34m=\u001b[0m\u001b[0;34m\"throughput_mean\"\u001b[0m\u001b[0;34m,\u001b[0m \u001b[0mcolumns\u001b[0m\u001b[0;34m=\u001b[0m\u001b[0;34m\"library\"\u001b[0m\u001b[0;34m,\u001b[0m \u001b[0mindex\u001b[0m\u001b[0;34m=\u001b[0m\u001b[0;34m\"graph\"\u001b[0m\u001b[0;34m)\u001b[0m\u001b[0;34m\u001b[0m\u001b[0;34m\u001b[0m\u001b[0m\n\u001b[1;32m      2\u001b[0m \u001b[0;31m# Choose newest Sortledton\u001b[0m\u001b[0;34m\u001b[0m\u001b[0;34m\u001b[0m\u001b[0;34m\u001b[0m\u001b[0m\n\u001b[0;32m----> 3\u001b[0;31m \u001b[0mthroughput_pivot\u001b[0m\u001b[0;34m[\u001b[0m\u001b[0;34m\"sortledton\"\u001b[0m\u001b[0;34m]\u001b[0m \u001b[0;34m=\u001b[0m \u001b[0mthroughput_pivot\u001b[0m\u001b[0;34m[\u001b[0m\u001b[0;34m\"sortledton.3\"\u001b[0m\u001b[0;34m]\u001b[0m\u001b[0;34m\u001b[0m\u001b[0;34m\u001b[0m\u001b[0m\n\u001b[0m\u001b[1;32m      4\u001b[0m \u001b[0mthroughput_pivot\u001b[0m \u001b[0;34m=\u001b[0m \u001b[0mthroughput_pivot\u001b[0m\u001b[0;34m.\u001b[0m\u001b[0mdrop\u001b[0m\u001b[0;34m(\u001b[0m\u001b[0;34m\"sortledton.1\"\u001b[0m\u001b[0;34m,\u001b[0m \u001b[0maxis\u001b[0m\u001b[0;34m=\u001b[0m\u001b[0;36m1\u001b[0m\u001b[0;34m)\u001b[0m\u001b[0;34m\u001b[0m\u001b[0;34m\u001b[0m\u001b[0m\n\u001b[1;32m      5\u001b[0m \u001b[0;31m#throughput_pivot = throughput_pivot.drop(\"sortledton.3\", axis=1)\u001b[0m\u001b[0;34m\u001b[0m\u001b[0;34m\u001b[0m\u001b[0;34m\u001b[0m\u001b[0m\n",
      "\u001b[0;32m/opt/homebrew/lib/python3.9/site-packages/pandas/core/frame.py\u001b[0m in \u001b[0;36m__getitem__\u001b[0;34m(self, key)\u001b[0m\n\u001b[1;32m   3022\u001b[0m             \u001b[0;32mif\u001b[0m \u001b[0mself\u001b[0m\u001b[0;34m.\u001b[0m\u001b[0mcolumns\u001b[0m\u001b[0;34m.\u001b[0m\u001b[0mnlevels\u001b[0m \u001b[0;34m>\u001b[0m \u001b[0;36m1\u001b[0m\u001b[0;34m:\u001b[0m\u001b[0;34m\u001b[0m\u001b[0;34m\u001b[0m\u001b[0m\n\u001b[1;32m   3023\u001b[0m                 \u001b[0;32mreturn\u001b[0m \u001b[0mself\u001b[0m\u001b[0;34m.\u001b[0m\u001b[0m_getitem_multilevel\u001b[0m\u001b[0;34m(\u001b[0m\u001b[0mkey\u001b[0m\u001b[0;34m)\u001b[0m\u001b[0;34m\u001b[0m\u001b[0;34m\u001b[0m\u001b[0m\n\u001b[0;32m-> 3024\u001b[0;31m             \u001b[0mindexer\u001b[0m \u001b[0;34m=\u001b[0m \u001b[0mself\u001b[0m\u001b[0;34m.\u001b[0m\u001b[0mcolumns\u001b[0m\u001b[0;34m.\u001b[0m\u001b[0mget_loc\u001b[0m\u001b[0;34m(\u001b[0m\u001b[0mkey\u001b[0m\u001b[0;34m)\u001b[0m\u001b[0;34m\u001b[0m\u001b[0;34m\u001b[0m\u001b[0m\n\u001b[0m\u001b[1;32m   3025\u001b[0m             \u001b[0;32mif\u001b[0m \u001b[0mis_integer\u001b[0m\u001b[0;34m(\u001b[0m\u001b[0mindexer\u001b[0m\u001b[0;34m)\u001b[0m\u001b[0;34m:\u001b[0m\u001b[0;34m\u001b[0m\u001b[0;34m\u001b[0m\u001b[0m\n\u001b[1;32m   3026\u001b[0m                 \u001b[0mindexer\u001b[0m \u001b[0;34m=\u001b[0m \u001b[0;34m[\u001b[0m\u001b[0mindexer\u001b[0m\u001b[0;34m]\u001b[0m\u001b[0;34m\u001b[0m\u001b[0;34m\u001b[0m\u001b[0m\n",
      "\u001b[0;32m/opt/homebrew/lib/python3.9/site-packages/pandas/core/indexes/base.py\u001b[0m in \u001b[0;36mget_loc\u001b[0;34m(self, key, method, tolerance)\u001b[0m\n\u001b[1;32m   3081\u001b[0m                 \u001b[0;32mreturn\u001b[0m \u001b[0mself\u001b[0m\u001b[0;34m.\u001b[0m\u001b[0m_engine\u001b[0m\u001b[0;34m.\u001b[0m\u001b[0mget_loc\u001b[0m\u001b[0;34m(\u001b[0m\u001b[0mcasted_key\u001b[0m\u001b[0;34m)\u001b[0m\u001b[0;34m\u001b[0m\u001b[0;34m\u001b[0m\u001b[0m\n\u001b[1;32m   3082\u001b[0m             \u001b[0;32mexcept\u001b[0m \u001b[0mKeyError\u001b[0m \u001b[0;32mas\u001b[0m \u001b[0merr\u001b[0m\u001b[0;34m:\u001b[0m\u001b[0;34m\u001b[0m\u001b[0;34m\u001b[0m\u001b[0m\n\u001b[0;32m-> 3083\u001b[0;31m                 \u001b[0;32mraise\u001b[0m \u001b[0mKeyError\u001b[0m\u001b[0;34m(\u001b[0m\u001b[0mkey\u001b[0m\u001b[0;34m)\u001b[0m \u001b[0;32mfrom\u001b[0m \u001b[0merr\u001b[0m\u001b[0;34m\u001b[0m\u001b[0;34m\u001b[0m\u001b[0m\n\u001b[0m\u001b[1;32m   3084\u001b[0m \u001b[0;34m\u001b[0m\u001b[0m\n\u001b[1;32m   3085\u001b[0m         \u001b[0;32mif\u001b[0m \u001b[0mtolerance\u001b[0m \u001b[0;32mis\u001b[0m \u001b[0;32mnot\u001b[0m \u001b[0;32mNone\u001b[0m\u001b[0;34m:\u001b[0m\u001b[0;34m\u001b[0m\u001b[0;34m\u001b[0m\u001b[0m\n",
      "\u001b[0;31mKeyError\u001b[0m: 'sortledton.3'"
     ]
    }
   ],
   "source": [
    "throughput_pivot = throughput_grouped.pivot_table(values=\"throughput_mean\", columns=\"library\", index=\"graph\")\n",
    "# Choose newest Sortledton\n",
    "throughput_pivot[\"sortledton\"] = throughput_pivot[\"sortledton.3\"]\n",
    "throughput_pivot = throughput_pivot.drop(\"sortledton.1\", axis=1)\n",
    "throughput_pivot = throughput_pivot.drop(\"sortledton.3\", axis=1)"
   ]
  },
  {
   "cell_type": "code",
   "execution_count": null,
   "id": "dae478db",
   "metadata": {},
   "outputs": [],
   "source": [
    "## FIGURE 11a\n",
    "matplotlib.style.use('classic')\n",
    "\n",
    "colormap=common.set_library_colormap(\"\")\n",
    "\n",
    "plotting.latexify(fig_width=3)\n",
    "\n",
    "p = throughput_pivot.plot.bar(color=colormap, legend=None)\n",
    "p.set_yscale('linear')\n",
    "\n",
    "plt.xlabel(\"Dataset\")\n",
    "plt.ylabel(\"meps\")\n",
    "\n",
    "positions = (0, 1)\n",
    "x_labels = (\"g500-24\", \"uni-24\")\n",
    "plt.xticks(positions, x_labels)\n",
    "plt.xticks(rotation=0)\n",
    "\n",
    "scale_y = 1e6\n",
    "ticks_y = ticker.FuncFormatter(lambda x, pos: '{0:g}'.format(x/scale_y))\n",
    "p.yaxis.set_major_formatter(ticks_y)\n",
    "plt.yticks()\n",
    "\n",
    "plotting.format_axes(p, categorical_x=True, yscale=\"linear\")\n",
    "\n",
    "plt.tight_layout()\n",
    "plt.savefig(plotting.base_path + \"throughput_average-new.png\", dpi=400)\n",
    "\n",
    "p"
   ]
  },
  {
   "cell_type": "code",
   "execution_count": null,
   "id": "0d8b3f1b",
   "metadata": {},
   "outputs": [],
   "source": [
    "legend_labels = [\"GraphOne ($>$10h)\", \"Livegraph (135m)\", \"Llama (OOM)\", \"Sortledton (12m)\", \"Stinger (6h 40m)\", \"Teseo (11m)\"]\n",
    "legend = p.legend(ncol=7, borderaxespad=0., labels=legend_labels, fontsize=\"x-large\")\n",
    "fig  = legend.figure\n",
    "fig.canvas.draw()\n",
    "bbox  = legend.get_window_extent().transformed(fig.dpi_scale_trans.inverted())\n",
    "fig.savefig(plotting.base_path + \"legend2.png\", dpi=400, bbox_inches=bbox)"
   ]
  },
  {
   "cell_type": "markdown",
   "id": "84eca59f",
   "metadata": {},
   "source": [
    "## Memory consumption"
   ]
  },
  {
   "cell_type": "code",
   "execution_count": null,
   "id": "259ed860",
   "metadata": {},
   "outputs": [],
   "source": [
    "memory_consumption_data = common.import_gfe(\"view_updates_memory_footprint\").query(experiments)\n",
    "memory_consumption_data[\"memory_usage_gb\"] = memory_consumption_data[\"memory_usage_bytes\"] / 1e9\n",
    "memory_consumption_data[\"progress\"] = memory_consumption_data[\"progress\"].round(2)\n",
    "grouped = memory_consumption_data.groupby([\"graph\", \"library\", \"exec_id\"]).agg(m=(\"memory_usage_gb\", \"max\"))\n",
    "#grouped"
   ]
  },
  {
   "cell_type": "code",
   "execution_count": null,
   "id": "3a1a7942",
   "metadata": {},
   "outputs": [],
   "source": [
    "memory_consumption_data_graph500 = memory_consumption_data.query(\"graph == 'graph500-24'\")\n",
    "memory_consumption_pivot = memory_consumption_data_graph500.pivot_table(values=\"memory_usage_gb\", columns=\"library\", index=\"progress\")\n",
    "memory_consumption_pivot.interpolate(method=\"index\", inplace=True, limit=1)\n",
    "\n",
    "memory_consumption_pivot[\"sortledton\"] = memory_consumption_pivot[\"sortledton.3\"]\n",
    "memory_consumption_pivot = memory_consumption_pivot.drop(\"sortledton.1\", axis=1)\n",
    "memory_consumption_pivot = memory_consumption_pivot.drop(\"sortledton.3\", axis=1)"
   ]
  },
  {
   "cell_type": "code",
   "execution_count": null,
   "id": "36864b34",
   "metadata": {
    "scrolled": false
   },
   "outputs": [],
   "source": [
    "memory_consumption_pivot"
   ]
  },
  {
   "cell_type": "code",
   "execution_count": null,
   "id": "2320cb22",
   "metadata": {},
   "outputs": [],
   "source": [
    "## FIGURE 11c\n",
    "\n",
    "matplotlib.style.use('classic')\n",
    "\n",
    "colormap=common.set_library_colormap(\"\")\n",
    "\n",
    "plotting.latexify(fig_width=3.4)\n",
    "p= memory_consumption_pivot.plot.line(color=colormap, legend=None)\n",
    "\n",
    "plt.xlabel(\"Progress\")\n",
    "plt.ylabel(\"Memory Consumption [GB]\")\n",
    "\n",
    "plt.annotate(\"X\", (0.42, 204))\n",
    "plt.annotate(\"X\", (0.54, 51))\n",
    "\n",
    "plotting.format_axes(p)\n",
    "\n",
    "plt.tight_layout()\n",
    "plt.savefig(plotting.base_path + \"memory_consumption-new.png\", dpi=400)"
   ]
  },
  {
   "cell_type": "markdown",
   "id": "83bbf17b",
   "metadata": {},
   "source": [
    "## Throughput"
   ]
  },
  {
   "cell_type": "code",
   "execution_count": null,
   "id": "38c455ad",
   "metadata": {},
   "outputs": [],
   "source": [
    "throughput_data = common.import_gfe(\"view_updates_throughput\").query(experiments)\n",
    "throughput_data[\"minute\"] = (throughput_data[\"second\"] / 60).round(1)"
   ]
  },
  {
   "cell_type": "code",
   "execution_count": null,
   "id": "165dc756",
   "metadata": {},
   "outputs": [],
   "source": [
    "max_minute = throughput_data.groupby(\"library\").aggregate(max_min=(\"minute\", \"max\"))\n",
    "max_minute"
   ]
  },
  {
   "cell_type": "code",
   "execution_count": null,
   "id": "b516031b",
   "metadata": {},
   "outputs": [],
   "source": [
    "pivot_throughput_data_graph500 = throughput_data.query(\"graph == 'graph500-24'\").pivot_table(index=\"minute\", columns=\"library\", values=\"throughput\")\n",
    "pivot_throughput_data_uniform = throughput_data.query(\"graph == 'uniform-24'\").pivot_table(index=\"minute\", columns=\"library\", values=\"throughput\")\n",
    "\n",
    "pivot_throughput_data_graph500 = pivot_throughput_data_graph500.query(\"minute < 45\")\n",
    "\n",
    "# Filter out old version\n",
    "pivot_throughput_data_graph500[\"sortledton\"] = pivot_throughput_data_graph500[\"sortledton.3\"]\n",
    "pivot_throughput_data_graph500 = pivot_throughput_data_graph500.drop(\"sortledton.1\", axis=1)\n",
    "pivot_throughput_data_graph500 = pivot_throughput_data_graph500.drop(\"sortledton.3\", axis=1)\n",
    "# Filter out experiment end artifacts of Sortledton\n",
    "pivot_throughput_data_graph500 = pivot_throughput_data_graph500.query(\"minute!= 12.0 and minute!= 12.4 and minute != 12.3 and minute != 12.2 and minute != 12.1\")\n",
    "pivot_throughput_data_graph500"
   ]
  },
  {
   "cell_type": "code",
   "execution_count": null,
   "id": "6d78647d",
   "metadata": {},
   "outputs": [],
   "source": [
    "## FIGURE 11b\n",
    "\n",
    "matplotlib.style.use('classic')\n",
    "\n",
    "colormap=common.set_library_colormap(\"\")\n",
    "\n",
    "plotting.latexify(fig_width=3)\n",
    "\n",
    "p = pivot_throughput_data_graph500.plot.line(color=colormap, linewidth=1, legend=None)\n",
    "\n",
    "p.set_yscale('linear')\n",
    "scale_y = 1e6\n",
    "\n",
    "ticks_y = ticker.FuncFormatter(lambda x, pos: '{0:g}'.format(x/scale_y))\n",
    "p.yaxis.set_major_locator(ticker.MultipleLocator(scale_y))\n",
    "p.yaxis.set_major_formatter(ticks_y)\n",
    "plt.yticks()\n",
    "\n",
    "plt.ylabel(\"meps\")\n",
    "plt.xlabel(\"Time [minutes]\")\n",
    "plt.xticks(rotation=0)\n",
    "\n",
    "p.plot(12.3, 3.4e+06, marker=\"*\", markersize=7, color=\"blue\")\n",
    "p.plot(11.3, 3.7e+06, marker=\"*\", markersize=7, color=\"mediumorchid\")\n",
    "\n",
    "plotting.format_axes(p, yscale=\"linear\")\n",
    "plt.grid(axis='y', which=\"minor\", b=None)\n",
    "           \n",
    "plt.tight_layout()\n",
    "plt.savefig(plotting.base_path + \"throughput-new.png\", dpi=400)"
   ]
  }
 ],
 "metadata": {
  "kernelspec": {
   "display_name": "Python 3 (ipykernel)",
   "language": "python",
   "name": "python3"
  },
  "language_info": {
   "codemirror_mode": {
    "name": "ipython",
    "version": 3
   },
   "file_extension": ".py",
   "mimetype": "text/x-python",
   "name": "python",
   "nbconvert_exporter": "python",
   "pygments_lexer": "ipython3",
   "version": "3.9.6"
  }
 },
 "nbformat": 4,
 "nbformat_minor": 5
}
