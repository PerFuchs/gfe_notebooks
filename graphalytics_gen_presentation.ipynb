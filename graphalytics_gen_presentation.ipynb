{
 "cells": [
  {
   "cell_type": "code",
   "execution_count": 1,
   "metadata": {},
   "outputs": [],
   "source": [
    "import common\n",
    "import importlib\n",
    "from matplotlib.lines import Line2D\n",
    "from matplotlib.patches import Patch\n",
    "import matplotlib.pyplot as plt\n",
    "import numpy as np\n",
    "import os\n",
    "import pandas as pd\n",
    "import re\n",
    "import socket\n",
    "\n",
    "# Show all columns and rows in a dataframe\n",
    "pd.set_option('display.max_columns', None)\n",
    "pd.set_option('display.max_rows', None)"
   ]
  },
  {
   "cell_type": "code",
   "execution_count": 2,
   "metadata": {},
   "outputs": [
    {
     "data": {
      "text/html": [
       "<div>\n",
       "<style scoped>\n",
       "    .dataframe tbody tr th:only-of-type {\n",
       "        vertical-align: middle;\n",
       "    }\n",
       "\n",
       "    .dataframe tbody tr th {\n",
       "        vertical-align: top;\n",
       "    }\n",
       "\n",
       "    .dataframe thead th {\n",
       "        text-align: right;\n",
       "    }\n",
       "</style>\n",
       "<table border=\"1\" class=\"dataframe\">\n",
       "  <thead>\n",
       "    <tr style=\"text-align: right;\">\n",
       "      <th>Algorithm</th>\n",
       "      <th>bfs_speedup</th>\n",
       "      <th>pagerank_speedup</th>\n",
       "      <th>wcc_speedup</th>\n",
       "      <th>sssp_speedup</th>\n",
       "      <th>lcc_speedup</th>\n",
       "    </tr>\n",
       "    <tr>\n",
       "      <th>Library</th>\n",
       "      <th></th>\n",
       "      <th></th>\n",
       "      <th></th>\n",
       "      <th></th>\n",
       "      <th></th>\n",
       "    </tr>\n",
       "  </thead>\n",
       "  <tbody>\n",
       "    <tr>\n",
       "      <th>CSR</th>\n",
       "      <td>1.000000</td>\n",
       "      <td>1.000000</td>\n",
       "      <td>1.000000</td>\n",
       "      <td>1.000000</td>\n",
       "      <td>27.789488</td>\n",
       "    </tr>\n",
       "    <tr>\n",
       "      <th>CSR-LCC</th>\n",
       "      <td>1.000436</td>\n",
       "      <td>0.998808</td>\n",
       "      <td>0.983582</td>\n",
       "      <td>0.814671</td>\n",
       "      <td>1.000000</td>\n",
       "    </tr>\n",
       "    <tr>\n",
       "      <th>G1</th>\n",
       "      <td>26.686480</td>\n",
       "      <td>3.340110</td>\n",
       "      <td>68.411627</td>\n",
       "      <td>2.272889</td>\n",
       "      <td>NaN</td>\n",
       "    </tr>\n",
       "    <tr>\n",
       "      <th>LLama</th>\n",
       "      <td>1.206337</td>\n",
       "      <td>1.203598</td>\n",
       "      <td>0.895930</td>\n",
       "      <td>3.762121</td>\n",
       "      <td>NaN</td>\n",
       "    </tr>\n",
       "    <tr>\n",
       "      <th>Livegraph</th>\n",
       "      <td>15.874334</td>\n",
       "      <td>2.595364</td>\n",
       "      <td>1.787183</td>\n",
       "      <td>1.368186</td>\n",
       "      <td>43.979971</td>\n",
       "    </tr>\n",
       "    <tr>\n",
       "      <th>Sortledton</th>\n",
       "      <td>3.028294</td>\n",
       "      <td>0.834468</td>\n",
       "      <td>0.670480</td>\n",
       "      <td>0.887192</td>\n",
       "      <td>2.811211</td>\n",
       "    </tr>\n",
       "    <tr>\n",
       "      <th>Stinger</th>\n",
       "      <td>3.710774</td>\n",
       "      <td>2.474664</td>\n",
       "      <td>2.985582</td>\n",
       "      <td>1.390010</td>\n",
       "      <td>NaN</td>\n",
       "    </tr>\n",
       "    <tr>\n",
       "      <th>Teseo</th>\n",
       "      <td>1.321092</td>\n",
       "      <td>3.205156</td>\n",
       "      <td>4.376726</td>\n",
       "      <td>2.206666</td>\n",
       "      <td>5.228757</td>\n",
       "    </tr>\n",
       "    <tr>\n",
       "      <th>Teseo dense</th>\n",
       "      <td>1.440989</td>\n",
       "      <td>0.868403</td>\n",
       "      <td>0.925249</td>\n",
       "      <td>0.831698</td>\n",
       "      <td>1.894244</td>\n",
       "    </tr>\n",
       "    <tr>\n",
       "      <th>csr3-lcc-numa</th>\n",
       "      <td>0.956795</td>\n",
       "      <td>0.984090</td>\n",
       "      <td>0.988720</td>\n",
       "      <td>0.717762</td>\n",
       "      <td>0.894210</td>\n",
       "    </tr>\n",
       "  </tbody>\n",
       "</table>\n",
       "</div>"
      ],
      "text/plain": [
       "Algorithm      bfs_speedup  pagerank_speedup  wcc_speedup  sssp_speedup  \\\n",
       "Library                                                                   \n",
       "CSR               1.000000          1.000000     1.000000      1.000000   \n",
       "CSR-LCC           1.000436          0.998808     0.983582      0.814671   \n",
       "G1               26.686480          3.340110    68.411627      2.272889   \n",
       "LLama             1.206337          1.203598     0.895930      3.762121   \n",
       "Livegraph        15.874334          2.595364     1.787183      1.368186   \n",
       "Sortledton        3.028294          0.834468     0.670480      0.887192   \n",
       "Stinger           3.710774          2.474664     2.985582      1.390010   \n",
       "Teseo             1.321092          3.205156     4.376726      2.206666   \n",
       "Teseo dense       1.440989          0.868403     0.925249      0.831698   \n",
       "csr3-lcc-numa     0.956795          0.984090     0.988720      0.717762   \n",
       "\n",
       "Algorithm      lcc_speedup  \n",
       "Library                     \n",
       "CSR              27.789488  \n",
       "CSR-LCC           1.000000  \n",
       "G1                     NaN  \n",
       "LLama                  NaN  \n",
       "Livegraph        43.979971  \n",
       "Sortledton        2.811211  \n",
       "Stinger                NaN  \n",
       "Teseo             5.228757  \n",
       "Teseo dense       1.894244  \n",
       "csr3-lcc-numa     0.894210  "
      ]
     },
     "execution_count": 2,
     "metadata": {},
     "output_type": "execute_result"
    }
   ],
   "source": [
    "# graphalytics inserts\n",
    "pers_experiments = \"num_threads_read == 0 and (hostname == 'scyper21' or hostname == 'scyper22')\"\n",
    "\n",
    "data_ins = common.import_gfe(\"view_graphalytics_inserts\").query(pers_experiments).copy() # data from the experiments\n",
    "data_ins[\"build_frequency\"].fillna(pd.Timedelta(0), inplace=True) # replace NaT with 0, otherwise the records are ignored in the group by\n",
    "\n",
    "data_ins = data_ins.query(\"((block_size == 512) and library == 'sortledton') or library != 'sortledton'\")\n",
    "data_ins = data_ins.query(\"(library == 'llama8-ref' and build_frequency == '0:0:10') or library != 'llama8-ref'\")\n",
    "\n",
    "# graphalytics load\n",
    "data_load = common.import_gfe(\"view_graphalytics_load\").query(pers_experiments).copy()\n",
    "# shape the dataframe as data_ins\n",
    "data_load[\"build_frequency\"] = pd.Timedelta(0)\n",
    "data_load[\"build_frequency_secs\"] = np.NaN\n",
    "data_load[\"num_snapshots_created\"] = 0\n",
    "data_load[\"num_threads_write\"] = 0\n",
    "data_load[\"block_size\"] = -1\n",
    "\n",
    "data = pd.concat([data_ins, data_load])\n",
    "data = data.query(\"graph == 'graph500-24'\")\n",
    "\n",
    "rename_libraries = {\n",
    "    \"csr3\": \"CSR\",\n",
    "    \"sortledton\": \"Sortledton\",\n",
    "    \"llama8-ref\": \"LLama\",\n",
    "    \"csr3-lcc\": \"CSR-LCC\",\n",
    "    \"g1_v6-ref-ignore-build\": \"G1\",\n",
    "    \"livegraph3_ro\": \"Livegraph\",\n",
    "    \"stinger7-ref\": \"Stinger\",\n",
    "    \"teseo-lcc.12\": \"Teseo\",\n",
    "    \"teseo-lcc-dv.12b\": \"Teseo dense\"\n",
    "}\n",
    "\n",
    "data[\"library\"] = data[\"library\"].map(lambda l: rename_libraries[l] if l in rename_libraries  else l)\n",
    "\n",
    "\n",
    "data = data.groupby([\"library\", \"algorithm\"]) \\\n",
    "    .agg(completion_time=(\"median_secs\", \"median\"))\n",
    "\n",
    "\n",
    "data = data.unstack(\"algorithm\")[(\"completion_time\")]\n",
    "data[\"bfs_speedup\"] = data[\"bfs\"] / data.loc[\"CSR\"][\"bfs\"]\n",
    "data[\"pagerank_speedup\"] = data[\"pagerank\"] / data.loc[\"CSR\"][\"pagerank\"]\n",
    "data[\"wcc_speedup\"] = data[\"wcc\"] / data.loc[\"CSR\"][\"wcc\"]\n",
    "data[\"sssp_speedup\"] = data[\"sssp\"] / data.loc[\"CSR\"][\"sssp\"]\n",
    "data[\"lcc_speedup\"] = data[\"lcc\"] / data.loc[\"CSR-LCC\"][\"lcc\"]\n",
    "\n",
    "data = data.drop([\"bfs\", \"cdlp\", \"pagerank\", \"sssp\", \"wcc\", \"lcc\"], axis=1)\n",
    "\n",
    "data.index.set_names(\"Library\", inplace=True)\n",
    "data.columns.set_names(\"Algorithm\", inplace=True)\n",
    "data"
   ]
  },
  {
   "cell_type": "code",
   "execution_count": 3,
   "metadata": {},
   "outputs": [],
   "source": [
    "path = \"/home/per/workspace/sortledton-presentation/figures/\""
   ]
  },
  {
   "cell_type": "markdown",
   "metadata": {},
   "source": [
    "## General analytics"
   ]
  },
  {
   "cell_type": "code",
   "execution_count": 4,
   "metadata": {},
   "outputs": [
    {
     "data": {
      "text/plain": [
       "<AxesSubplot:title={'center':'GAP Benchmark Suite on Graph500-24'}, xlabel='Data Structures', ylabel='Slowdown compared to CSR'>"
      ]
     },
     "execution_count": 4,
     "metadata": {},
     "output_type": "execute_result"
    },
    {
     "data": {
      "image/png": "[encoded data removed]",
      "text/plain": [
       "<Figure size 432x288 with 1 Axes>"
      ]
     },
     "metadata": {
      "needs_background": "light"
     },
     "output_type": "display_data"
    }
   ],
   "source": [
    "data_an = data.drop(\"bfs_speedup\", axis=1)\n",
    "data_an = data_an.drop(\"CSR-LCC\")\n",
    "data_an = data_an.drop(\"CSR\")\n",
    "data_an = data_an.drop(\"csr3-lcc-numa\")\n",
    "data_an = data_an.sort_values(\"pagerank_speedup\")\n",
    "data_an[\"PageRank\"] = data_an[\"pagerank_speedup\"]\n",
    "data_an[\"WCC\"] = data_an[\"wcc_speedup\"]\n",
    "data_an[\"SSSP\"] = data_an[\"sssp_speedup\"]\n",
    "data_an = data_an.drop(\"pagerank_speedup\", axis=1)\n",
    "data_an = data_an.drop(\"wcc_speedup\", axis=1)\n",
    "data_an = data_an.drop(\"sssp_speedup\", axis=1)\n",
    "data_an = data_an.drop(\"lcc_speedup\", axis=1)\n",
    "\n",
    "p = data_an.plot.bar()\n",
    "\n",
    "plt.xlabel(\"Data Structures\")\n",
    "plt.ylabel(\"Slowdown compared to CSR\")\n",
    "plt.ylim(0, 8)\n",
    "plt.xticks(rotation=25)\n",
    "plt.title(\"GAP Benchmark Suite on Graph500-24\")\n",
    "\n",
    "plt.tight_layout()\n",
    "plt.savefig(path + \"analytical_performance.png\")\n",
    "#p.get_legend().remove()\n",
    "\n",
    "p"
   ]
  },
  {
   "cell_type": "markdown",
   "metadata": {},
   "source": [
    "## LCC"
   ]
  },
  {
   "cell_type": "code",
   "execution_count": 5,
   "metadata": {},
   "outputs": [
    {
     "data": {
      "text/html": [
       "<div>\n",
       "<style scoped>\n",
       "    .dataframe tbody tr th:only-of-type {\n",
       "        vertical-align: middle;\n",
       "    }\n",
       "\n",
       "    .dataframe tbody tr th {\n",
       "        vertical-align: top;\n",
       "    }\n",
       "\n",
       "    .dataframe thead th {\n",
       "        text-align: right;\n",
       "    }\n",
       "</style>\n",
       "<table border=\"1\" class=\"dataframe\">\n",
       "  <thead>\n",
       "    <tr style=\"text-align: right;\">\n",
       "      <th>Algorithm</th>\n",
       "      <th>lcc_speedup</th>\n",
       "    </tr>\n",
       "    <tr>\n",
       "      <th>Library</th>\n",
       "      <th></th>\n",
       "    </tr>\n",
       "  </thead>\n",
       "  <tbody>\n",
       "    <tr>\n",
       "      <th>Teseo dense</th>\n",
       "      <td>1.894244</td>\n",
       "    </tr>\n",
       "    <tr>\n",
       "      <th>Sortledton</th>\n",
       "      <td>2.811211</td>\n",
       "    </tr>\n",
       "    <tr>\n",
       "      <th>Teseo</th>\n",
       "      <td>5.228757</td>\n",
       "    </tr>\n",
       "    <tr>\n",
       "      <th>Livegraph</th>\n",
       "      <td>43.979971</td>\n",
       "    </tr>\n",
       "  </tbody>\n",
       "</table>\n",
       "</div>"
      ],
      "text/plain": [
       "Algorithm    lcc_speedup\n",
       "Library                 \n",
       "Teseo dense     1.894244\n",
       "Sortledton      2.811211\n",
       "Teseo           5.228757\n",
       "Livegraph      43.979971"
      ]
     },
     "execution_count": 5,
     "metadata": {},
     "output_type": "execute_result"
    }
   ],
   "source": [
    "data_lcc = data.drop(\"pagerank_speedup\", axis=1)\n",
    "data_lcc = data_lcc.drop(\"wcc_speedup\", axis=1)\n",
    "data_lcc = data_lcc.drop(\"bfs_speedup\", axis=1)\n",
    "data_lcc = data_lcc.drop(\"sssp_speedup\", axis=1)\n",
    "data_lcc = data_lcc.drop(\"CSR\")\n",
    "data_lcc = data_lcc.sort_values(\"lcc_speedup\")\n",
    "data_lcc = data_lcc.drop(\"G1\")\n",
    "data_lcc = data_lcc.drop(\"LLama\")\n",
    "data_lcc = data_lcc.drop(\"Stinger\")\n",
    "data_lcc = data_lcc.drop(\"csr3-lcc-numa\")\n",
    "data_lcc = data_lcc.drop(\"CSR-LCC\")\n",
    "\n",
    "data_lcc"
   ]
  },
  {
   "cell_type": "code",
   "execution_count": 9,
   "metadata": {},
   "outputs": [
    {
     "data": {
      "text/plain": [
       "<AxesSubplot:title={'center':'Local Clustering Coefficient on Graph500-24'}, xlabel='Data Structures', ylabel='Slowdown compared to CSR'>"
      ]
     },
     "execution_count": 9,
     "metadata": {},
     "output_type": "execute_result"
    },
    {
     "data": {
      "image/png": "[encoded data removed]",
      "text/plain": [
       "<Figure size 432x288 with 1 Axes>"
      ]
     },
     "metadata": {
      "needs_background": "light"
     },
     "output_type": "display_data"
    }
   ],
   "source": [
    "p = data_lcc.plot.bar()\n",
    "\n",
    "plt.xlabel(\"Data Structures\")\n",
    "plt.ylabel(\"Slowdown compared to CSR\")\n",
    "plt.xticks(rotation=25)\n",
    "plt.title(\"Local Clustering Coefficient on Graph500-24\")\n",
    "#p.get_legend().remove()\n",
    "plt.legend().remove()\n",
    "plt.tight_layout()\n",
    "plt.savefig(path + \"gpm_performance.png\")\n",
    "\n",
    "p"
   ]
  },
  {
   "cell_type": "markdown",
   "metadata": {},
   "source": [
    "## BFS"
   ]
  },
  {
   "cell_type": "code",
   "execution_count": 7,
   "metadata": {},
   "outputs": [
    {
     "data": {
      "text/html": [
       "<div>\n",
       "<style scoped>\n",
       "    .dataframe tbody tr th:only-of-type {\n",
       "        vertical-align: middle;\n",
       "    }\n",
       "\n",
       "    .dataframe tbody tr th {\n",
       "        vertical-align: top;\n",
       "    }\n",
       "\n",
       "    .dataframe thead th {\n",
       "        text-align: right;\n",
       "    }\n",
       "</style>\n",
       "<table border=\"1\" class=\"dataframe\">\n",
       "  <thead>\n",
       "    <tr style=\"text-align: right;\">\n",
       "      <th>Algorithm</th>\n",
       "      <th>bfs_speedup</th>\n",
       "    </tr>\n",
       "    <tr>\n",
       "      <th>Library</th>\n",
       "      <th></th>\n",
       "    </tr>\n",
       "  </thead>\n",
       "  <tbody>\n",
       "    <tr>\n",
       "      <th>LLama</th>\n",
       "      <td>1.206337</td>\n",
       "    </tr>\n",
       "    <tr>\n",
       "      <th>Teseo</th>\n",
       "      <td>1.321092</td>\n",
       "    </tr>\n",
       "    <tr>\n",
       "      <th>Teseo dense</th>\n",
       "      <td>1.440989</td>\n",
       "    </tr>\n",
       "    <tr>\n",
       "      <th>Sortledton</th>\n",
       "      <td>3.028294</td>\n",
       "    </tr>\n",
       "    <tr>\n",
       "      <th>Stinger</th>\n",
       "      <td>3.710774</td>\n",
       "    </tr>\n",
       "    <tr>\n",
       "      <th>Livegraph</th>\n",
       "      <td>15.874334</td>\n",
       "    </tr>\n",
       "    <tr>\n",
       "      <th>G1</th>\n",
       "      <td>26.686480</td>\n",
       "    </tr>\n",
       "  </tbody>\n",
       "</table>\n",
       "</div>"
      ],
      "text/plain": [
       "Algorithm    bfs_speedup\n",
       "Library                 \n",
       "LLama           1.206337\n",
       "Teseo           1.321092\n",
       "Teseo dense     1.440989\n",
       "Sortledton      3.028294\n",
       "Stinger         3.710774\n",
       "Livegraph      15.874334\n",
       "G1             26.686480"
      ]
     },
     "execution_count": 7,
     "metadata": {},
     "output_type": "execute_result"
    }
   ],
   "source": [
    "data_bfs = data.drop(\"pagerank_speedup\", axis=1)\n",
    "data_bfs = data_bfs.drop(\"wcc_speedup\", axis=1)\n",
    "data_bfs = data_bfs.drop(\"sssp_speedup\", axis=1)\n",
    "data_bfs = data_bfs.drop(\"lcc_speedup\", axis=1)\n",
    "data_bfs = data_bfs.drop(\"CSR-LCC\")\n",
    "data_bfs = data_bfs.drop(\"csr3-lcc-numa\")\n",
    "data_bfs = data_bfs.drop(\"CSR\")\n",
    "data_bfs = data_bfs.sort_values(\"bfs_speedup\")\n",
    "\n",
    "data_bfs"
   ]
  },
  {
   "cell_type": "code",
   "execution_count": 8,
   "metadata": {},
   "outputs": [
    {
     "data": {
      "text/plain": [
       "<AxesSubplot:title={'center':'GAP Benchmark Suite BFS on Graph500-24'}, xlabel='Data Structures', ylabel='Slowdown compared to CSR'>"
      ]
     },
     "execution_count": 8,
     "metadata": {},
     "output_type": "execute_result"
    },
    {
     "data": {
      "image/png": "[encoded data removed]",
      "text/plain": [
       "<Figure size 432x288 with 1 Axes>"
      ]
     },
     "metadata": {
      "needs_background": "light"
     },
     "output_type": "display_data"
    }
   ],
   "source": [
    "p = data_bfs.plot.bar()\n",
    "\n",
    "plt.xlabel(\"Data Structures\")\n",
    "plt.ylabel(\"Slowdown compared to CSR\")\n",
    "plt.xticks(rotation=25)\n",
    "plt.title(\"GAP Benchmark Suite BFS on Graph500-24\")\n",
    "p.get_legend().remove()\n",
    "plt.tight_layout()\n",
    "plt.savefig(path + \"bfs_performance.png\")\n",
    "\n",
    "p"
   ]
  }
 ],
 "metadata": {
  "kernelspec": {
   "display_name": "Python 3",
   "language": "python",
   "name": "python3"
  },
  "language_info": {
   "codemirror_mode": {
    "name": "ipython",
    "version": 3
   },
   "file_extension": ".py",
   "mimetype": "text/x-python",
   "name": "python",
   "nbconvert_exporter": "python",
   "pygments_lexer": "ipython3",
   "version": "3.9.5"
  }
 },
 "nbformat": 4,
 "nbformat_minor": 4
}
